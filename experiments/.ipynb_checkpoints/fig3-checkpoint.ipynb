{
 "cells": [
  {
   "cell_type": "markdown",
   "metadata": {},
   "source": [
    "## Figure 3 Plots\n",
    "\n",
    "This notebook will generate the plots for Figure 3 in the paper. These experiments compare the PFS algorithm to the MVMD-3 baseline. We compare the l-diversity metrics from the respective padding scheme produced by algorithms."
   ]
  },
  {
   "cell_type": "code",
   "execution_count": 1,
   "metadata": {},
   "outputs": [
    {
     "name": "stdout",
     "output_type": "stream",
     "text": [
      "/home/andrew/constrained-padding-sequences\n"
     ]
    }
   ],
   "source": [
    "import sys\n",
    "import os \n",
    "\n",
    "sys.path.insert(0, '..')\n",
    "os.chdir('..')\n",
    "print(os.getcwd())"
   ]
  },
  {
   "cell_type": "code",
   "execution_count": 2,
   "metadata": {},
   "outputs": [],
   "source": [
    "import matplotlib.pyplot as plt\n",
    "import matplotlib.patches as patches\n",
    "import numpy as np\n",
    "\n",
    "\n",
    "%load_ext autoreload\n",
    "%autoreload 2"
   ]
  },
  {
   "cell_type": "code",
   "execution_count": 3,
   "metadata": {},
   "outputs": [],
   "source": [
    "from pfs import run_pfs\n",
    "from mvmd import run_mvmd\n",
    "from utils import elementWiseDiff"
   ]
  },
  {
   "cell_type": "markdown",
   "metadata": {},
   "source": [
    "#### Set the dataset\n",
    "\n",
    "Set the dataset variable below. You may uncomment any of the lines below to generate the plots for the corresponding dataset.\n",
    "\n",
    "The datasets `autocomplete`, `wikipedia` and `linode_from_index` will generate plots for Figure 4. The dataset `synthetic2` will generate the plot for figure 5."
   ]
  },
  {
   "cell_type": "code",
   "execution_count": 4,
   "metadata": {},
   "outputs": [],
   "source": [
    "dataset, max_len, leg_x, leg_y, y_lim = 'autocomplete', 14, 12, 9, 17\n",
    "# dataset, max_len, leg_x, leg_y, y_lim = 'linode_from_index', 7, 8, 5, 8\n",
    "# dataset, max_len, leg_x, leg_y, y_lim = 'wikipedia', 7, 13, 5, 60"
   ]
  },
  {
   "cell_type": "code",
   "execution_count": null,
   "metadata": {},
   "outputs": [
    {
     "name": "stdout",
     "output_type": "stream",
     "text": [
      "Set parameter Username\n",
      "Academic license - for non-commercial use only - expires 2025-05-28\n"
     ]
    }
   ],
   "source": [
    "c=2\n",
    "pfs_l_div_res = run_pfs(dataset, c)['l_div']\n",
    "pfs_min_l_div, pfs_max_l_div, pfs_avg_l_div = pfs_l_div_res\n",
    "\n",
    "mvmd_l_div_res = run_mvmd(dataset)['l_div']\n",
    "mvmd_min_l_div, mvmd_max_l_div, mvmd_avg_l_div = mvmd_l_div_res"
   ]
  },
  {
   "cell_type": "code",
   "execution_count": null,
   "metadata": {},
   "outputs": [],
   "source": [
    "c_vals = {\"autocomplete\": 31.73, \"linode_from_index\": 5707.33, \"wikipedia\": 43.07}\n",
    "\n",
    "mp = {\n",
    "    '\\\\ourAlg Min Diversity (\\\\padFactor=2.0)': pfs_min_l_div,\n",
    "    '\\\\ourAlg Max Diversity (\\\\padFactor=2.0)': pfs_max_l_div,\n",
    "    '\\\\ourAlg Avg Diversity (\\\\padFactor=2.0)': pfs_avg_l_div,\n",
    "    f'\\\\lDivAlg{{3}} Min Diversity (\\\\padFactor={c_vals[dataset]})': mvmd_min_l_div,\n",
    "    f'\\\\lDivAlg{{3}} Max Diversity (\\\\padFactor={c_vals[dataset]})': mvmd_max_l_div,\n",
    "    f'\\\\lDivAlg{{3}} Avg Diversity (\\\\padFactor={c_vals[dataset]})': mvmd_avg_l_div,\n",
    "}"
   ]
  },
  {
   "cell_type": "code",
   "execution_count": null,
   "metadata": {},
   "outputs": [],
   "source": [
    "ourAlg_stacked_mp, ldiv_stacked_mp = {}, {}\n",
    "\n",
    "metric_name = [\"Min\", \"Avg\"]\n",
    "\n",
    "for i in range(len(metric_name)):\n",
    "    src = f'\\\\ourAlg {metric_name[i]} Diversity (\\\\padFactor=2.0)'\n",
    "    if i == 0: \n",
    "        updated_res = mp[src]\n",
    "    else:\n",
    "        updated_res = elementWiseDiff(\n",
    "            mp[f'\\\\ourAlg {metric_name[i-1]} Diversity (\\\\padFactor=2.0)'],\n",
    "            mp[src],\n",
    "        )\n",
    "    ourAlg_stacked_mp[src] = updated_res\n",
    "    \n",
    "for i in range(len(metric_name)):\n",
    "    src = f'\\\\lDivAlg{{3}} {metric_name[i]} Diversity (\\\\padFactor={c_vals[dataset]})'\n",
    "    if i == 0: \n",
    "        updated_res = mp[src]\n",
    "    else:\n",
    "        updated_res = elementWiseDiff(\n",
    "            mp[f'\\\\lDivAlg{{3}} {metric_name[i-1]} Diversity (\\\\padFactor={c_vals[dataset]})'],\n",
    "            mp[src],\n",
    "        )\n",
    "    ldiv_stacked_mp[src] = updated_res"
   ]
  },
  {
   "cell_type": "code",
   "execution_count": null,
   "metadata": {},
   "outputs": [],
   "source": [
    "mp"
   ]
  },
  {
   "cell_type": "markdown",
   "metadata": {},
   "source": [
    "### Plots"
   ]
  },
  {
   "cell_type": "code",
   "execution_count": null,
   "metadata": {},
   "outputs": [],
   "source": [
    "colors = {}\n",
    "colors[\"\\\\lDivAlg{3}\"] = \"grey\" \n",
    "colors[\"\\\\ourAlg\"] = \"lightgrey\" \n",
    "\n",
    "spaces = {}\n",
    "spaces[\"\\\\lDivAlg{3}\"] = .4 \n",
    "spaces[\"\\\\ourAlg\"] = .4     \n",
    "\n",
    "sq = 1 # square dimension"
   ]
  },
  {
   "cell_type": "code",
   "execution_count": null,
   "metadata": {},
   "outputs": [],
   "source": [
    "def draw_null_sq(x_offset, y_offset):\n",
    "    square = patches.Rectangle((leg_x+x_offset*sq,leg_y+y_offset*sq), sq, sq, linewidth=1, edgecolor='black', facecolor=\"white\")\n",
    "    ax.add_patch(square)\n",
    "    x1, y1 = [leg_x+x_offset*sq, leg_x+x_offset*sq+sq], [leg_y+y_offset*sq, leg_y+y_offset*sq+sq]\n",
    "    x2, y2 = [leg_x+x_offset*sq, leg_x+x_offset*sq+sq], [leg_y+y_offset*sq+sq, leg_y+y_offset*sq]\n",
    "    plt.plot(x1, y1, x2, y2, color=\"gray\", linewidth=0.5)\n",
    "    \n",
    "def draw_null_rec_big(x_offset, y_offset):\n",
    "    square = patches.Rectangle((leg_x+x_offset*sq,leg_y+y_offset*sq), sq*2, sq*4, linewidth=1, edgecolor='black', facecolor=\"white\")\n",
    "    ax.add_patch(square)\n",
    "    x1, y1 = [leg_x+x_offset*sq, leg_x+x_offset*sq+sq*2], [leg_y+y_offset*sq, leg_y+y_offset*sq+sq*4]\n",
    "    x2, y2 = [leg_x+x_offset*sq, leg_x+x_offset*sq+sq*2], [leg_y+y_offset*sq+sq*4, leg_y+y_offset*sq]\n",
    "    plt.plot(x1, y1, x2, y2, color=\"gray\", linewidth=0.5)\n",
    "    \n",
    "def draw_null_rec_small(x_offset, y_offset):\n",
    "    square = patches.Rectangle((leg_x+x_offset*sq,leg_y+y_offset*sq), sq*2, sq, linewidth=1, edgecolor='black', facecolor=\"white\")\n",
    "    ax.add_patch(square)\n",
    "    x1, y1 = [leg_x+x_offset*sq, leg_x+x_offset*sq+sq*2], [leg_y+y_offset*sq, leg_y+y_offset*sq+sq]\n",
    "    x2, y2 = [leg_x+x_offset*sq, leg_x+x_offset*sq+sq*2], [leg_y+y_offset*sq+sq, leg_y+y_offset*sq]\n",
    "    plt.plot(x1, y1, x2, y2, color=\"gray\", linewidth=0.5)"
   ]
  },
  {
   "cell_type": "code",
   "execution_count": null,
   "metadata": {},
   "outputs": [],
   "source": [
    "# Create a figure and a set of subplots\n",
    "fig, ax = plt.subplots()\n",
    "#hatches = ['\\\\\\\\', '', '//', ''] # WORKS GOOD IF WE DON'T INCLUDE c=2.0\n",
    "hatches = ['xxxxxx', '']\n",
    "alphas = [1, 0.7, 0.4, 0.2]\n",
    "\n",
    "# Plot data\n",
    "def plot_stacked_bar(stacked_mp, x_offset = 0, edgecolor='black'):\n",
    "    for i, (name, values) in enumerate(stacked_mp.items()):\n",
    "        bottom = [0]*len(values) if i == 0 else [sum(x) for x in zip(*list(stacked_mp.values())[:i])]\n",
    "        ax.bar(\n",
    "            np.array(range(len(values))) + x_offset + 1, \n",
    "            values, \n",
    "            bottom=bottom, \n",
    "            width=spaces[name.split(\" \")[0]],\n",
    "            edgecolor=edgecolor,\n",
    "            #color='white',\n",
    "            color=colors[name.split(\" \")[0]],\n",
    "            hatch=hatches[i%len(hatches)],\n",
    "            #alpha=alphas[i%len(alphas)],\n",
    "            label=name,\n",
    "            align='edge')\n",
    "\n",
    "plot_stacked_bar(ldiv_stacked_mp, x_offset=-0.4, edgecolor='black')\n",
    "plot_stacked_bar(ourAlg_stacked_mp, x_offset=0.0, edgecolor='black')\n",
    "# Add legend\n",
    "ax.legend()\n",
    "plt.xticks(range(1,max_len+1))\n",
    "ax.set_ylim(0,y_lim)\n",
    "\n",
    "if dataset == \"wikipedia\":\n",
    "    ax.set_yticks(np.arange(0,y_lim+1,4))\n",
    "else:\n",
    "    ax.set_yticks(np.arange(0,y_lim+1,1))\n",
    "\n",
    "plt.xlabel('Sequence Length', fontsize=18)\n",
    "plt.ylabel('Diversity', fontsize=18)\n",
    "\n",
    "if dataset == \"autocomplete\":\n",
    "    square = patches.Rectangle((leg_x,leg_y), .8*sq, sq, linewidth=1, edgecolor='black', facecolor=colors[\"\\\\lDivAlg{3}\"], hatch=\"xxxxxx\")\n",
    "    ax.add_patch(square)\n",
    "    square = patches.Rectangle((leg_x,leg_y+sq), .8*sq, sq, linewidth=1, edgecolor='black', facecolor=colors[\"\\\\lDivAlg{3}\"], hatch=\"\")\n",
    "    ax.add_patch(square)\n",
    "    \n",
    "    square = patches.Rectangle((leg_x+.8*sq,leg_y), .8*sq, sq, linewidth=1, edgecolor='black', facecolor=colors[\"\\\\ourAlg\"], hatch=\"xxxxxx\")\n",
    "    ax.add_patch(square)\n",
    "    square = patches.Rectangle((leg_x+.8*sq,leg_y+sq), .8*sq, sq, linewidth=1, edgecolor='black', facecolor=colors[\"\\\\ourAlg\"], hatch=\"\")\n",
    "    ax.add_patch(square)\n",
    "\n",
    "    ax.text(leg_x-3.1, leg_y+.2*sq, \"Min-Diversity\", fontsize=\"large\")\n",
    "    ax.text(leg_x-3.1, leg_y+1.2*sq, \"Avg-Diversity\", fontsize=\"large\")\n",
    "\n",
    "    ax.text(leg_x+.2*sq, leg_y+2.25*sq, \"\\\\lDivAlg{3}\", rotation='vertical', fontsize=\"large\")\n",
    "    ax.text(leg_x+sq, leg_y+2.25*sq, \"\\\\ourAlg (\\padFactor = 2.0)\", rotation='vertical', fontsize=\"large\")\n",
    "    \n",
    "#label_c = {\"autocomplete\": \"\\\\lDivAlg{3} (\\padFactor = 31.73)\", \n",
    "#           \"linode_from_index\": \"\\\\lDivAlg{3} (\\padFactor = 5707.33)\", \n",
    "#           \"wikipedia\": \"\\\\lDivAlg{3} (\\padFactor = 43.07)\"}\n",
    "    \n",
    "#label_x = {\"autocomplete\": .5, \n",
    "#           \"linode_from_index\": .4, \n",
    "#           \"wikipedia\": .5}\n",
    "\n",
    "#t = ax.text(label_x[dataset], .90, label_c[dataset], horizontalalignment='center', verticalalignment='center', transform=ax.transAxes, fontsize=18)\n",
    "#t.set_bbox(dict(facecolor=\"white\", alpha=1, edgecolor=\"black\"))\n",
    "    \n",
    "# Show plot\n",
    "plt.show()"
   ]
  },
  {
   "cell_type": "code",
   "execution_count": null,
   "metadata": {},
   "outputs": [],
   "source": []
  }
 ],
 "metadata": {
  "kernelspec": {
   "display_name": "Python 3 (ipykernel)",
   "language": "python",
   "name": "python3"
  },
  "language_info": {
   "codemirror_mode": {
    "name": "ipython",
    "version": 3
   },
   "file_extension": ".py",
   "mimetype": "text/x-python",
   "name": "python",
   "nbconvert_exporter": "python",
   "pygments_lexer": "ipython3",
   "version": "3.9.12"
  }
 },
 "nbformat": 4,
 "nbformat_minor": 2
}
