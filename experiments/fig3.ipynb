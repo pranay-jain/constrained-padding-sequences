{
 "cells": [
  {
   "cell_type": "markdown",
   "metadata": {},
   "source": [
    "## Figure 3 Plots\n",
    "\n",
    "This notebook will generate the plots for Figure 3 in the paper. These experiments compare the PFS algorithm to the MVMD-3 baseline. We compare the l-diversity metrics from the respective padding scheme produced by algorithms."
   ]
  },
  {
   "cell_type": "code",
   "execution_count": 2,
   "metadata": {},
   "outputs": [
    {
     "name": "stdout",
     "output_type": "stream",
     "text": [
      "/Users/pranayjain/Desktop/Security Research/constrained-padding-sequences\n"
     ]
    }
   ],
   "source": [
    "import matplotlib.pyplot as plt\n",
    "import numpy as np\n",
    "import sys\n",
    "import os \n",
    "\n",
    "\n",
    "sys.path.insert(0, '..')\n",
    "os.chdir('..')\n",
    "print(os.getcwd())\n",
    "\n",
    "%load_ext autoreload\n",
    "%autoreload 2"
   ]
  },
  {
   "cell_type": "code",
   "execution_count": 5,
   "metadata": {},
   "outputs": [],
   "source": [
    "from pfs import run_pfs\n",
    "from mvmd import run_mvmd\n",
    "from utils import elementWiseDiff"
   ]
  },
  {
   "cell_type": "markdown",
   "metadata": {},
   "source": [
    "#### Set the dataset\n",
    "\n",
    "Set the dataset variable below. You may uncomment any of the lines below to generate the plots for the corresponding dataset.\n",
    "\n",
    "The datasets `autocomplete`, `wikipedia` and `linode_from_index` will generate plots for Figure 4. The dataset `synthetic2` will generate the plot for figure 5."
   ]
  },
  {
   "cell_type": "code",
   "execution_count": 4,
   "metadata": {},
   "outputs": [],
   "source": [
    "dataset, max_len, leg_x, leg_y, y_lim = 'autocomplete', 14, 13, 5, 10\n",
    "# dataset, max_len, leg_x, leg_y, y_lim = 'linode_from_index', 7, 0.5, 4.5, 10\n",
    "# dataset, max_len, leg_x, leg_y, y_lim = 'wikipedia', 7, 13, 5, 13\n",
    "# dataset, max_len, leg_x, leg_y, y_lim = 'synthetic2', 8, 1, 6, 8.5"
   ]
  },
  {
   "cell_type": "code",
   "execution_count": null,
   "metadata": {},
   "outputs": [],
   "source": [
    "ourAlg_stacked_mp, ldiv_stacked_mp = {}, {}\n",
    "\n",
    "metric_name = [\"Min\", \"Avg\"]\n",
    "c_vals = {\"autocomplete\": 31.73, \"linode_from_index\": 5707.33, \"wikipedia\": 43.07}\n",
    "\n",
    "for i in range(len(metric_name)):\n",
    "    src = f'\\\\ourAlg {metric_name[i]} Diversity (\\\\padFactor=2.0)'\n",
    "    if i == 0: \n",
    "        updated_res = mp[src]\n",
    "    else:\n",
    "        updated_res = elementWiseDiff(\n",
    "            mp[f'\\\\ourAlg {metric_name[i-1]} Diversity (\\\\padFactor=2.0)'],\n",
    "            mp[src],\n",
    "        )\n",
    "    ourAlg_stacked_mp[src] = updated_res\n",
    "    \n",
    "for i in range(len(metric_name)):\n",
    "    src = f'\\\\lDivAlg{{3}} {metric_name[i]} Diversity (\\\\padFactor={c_vals[dataset]})'\n",
    "    if i == 0: \n",
    "        updated_res = mp[src]\n",
    "    else:\n",
    "        updated_res = elementWiseDiff(\n",
    "            mp[f'\\\\lDivAlg{{3}} {metric_name[i-1]} Diversity (\\\\padFactor={c_vals[dataset]})'],\n",
    "            mp[src],\n",
    "        )\n",
    "    ldiv_stacked_mp[src] = updated_res"
   ]
  }
 ],
 "metadata": {
  "kernelspec": {
   "display_name": "security",
   "language": "python",
   "name": "python3"
  },
  "language_info": {
   "codemirror_mode": {
    "name": "ipython",
    "version": 3
   },
   "file_extension": ".py",
   "mimetype": "text/x-python",
   "name": "python",
   "nbconvert_exporter": "python",
   "pygments_lexer": "ipython3",
   "version": "3.11.0"
  },
  "orig_nbformat": 4
 },
 "nbformat": 4,
 "nbformat_minor": 2
}
